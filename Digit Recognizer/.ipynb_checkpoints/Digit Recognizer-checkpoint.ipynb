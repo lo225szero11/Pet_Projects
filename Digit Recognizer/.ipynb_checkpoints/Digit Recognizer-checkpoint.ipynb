{
 "cells": [
  {
   "cell_type": "markdown",
   "metadata": {
    "_cell_guid": "d4c08f48-fe23-4ddb-ac46-d97f05397514",
    "_uuid": "f2156d1dd26a1243e18512002e10872c5bd7271e"
   },
   "source": [
    "# Digit Recognizer\n",
    "Arthur: Leon Lai"
   ]
  },
  {
   "cell_type": "markdown",
   "metadata": {},
   "source": [
    "Convolutional Neural Network (CNN) is very powerful for image recognition!\n",
    "\n",
    "Let's get started! "
   ]
  },
  {
   "cell_type": "code",
   "execution_count": 1,
   "metadata": {
    "_cell_guid": "f67b9393-8ea1-4e23-b856-2ce149cfe421",
    "_execution_state": "idle",
    "_uuid": "72334cb006d02a4bcfc2a2fe622524eba824c6f8"
   },
   "outputs": [],
   "source": [
    "import numpy as np\n",
    "import pandas as pd\n",
    "\n",
    "import warnings\n",
    "warnings.filterwarnings('ignore')"
   ]
  },
  {
   "cell_type": "markdown",
   "metadata": {
    "_cell_guid": "6d2fb3e6-ab71-4974-b5a2-4af1ebdb99f4",
    "_execution_state": "idle",
    "_uuid": "86061d98eccaa02efe0dab0fa3884e71fcf4c310"
   },
   "source": [
    "## Load data"
   ]
  },
  {
   "cell_type": "code",
   "execution_count": 2,
   "metadata": {
    "_cell_guid": "5e51d00e-62fd-4141-bf73-50ac4f2da7d0",
    "_execution_state": "idle",
    "_uuid": "84bbd5ab8d7895bd430d5ecfe2f7ddf77baa7b74"
   },
   "outputs": [],
   "source": [
    "# Load the data\n",
    "train = pd.read_csv(\"train.csv\")\n",
    "test = pd.read_csv(\"test.csv\")"
   ]
  },
  {
   "cell_type": "code",
   "execution_count": 3,
   "metadata": {},
   "outputs": [
    {
     "data": {
      "text/plain": [
       "(42000, 785)"
      ]
     },
     "execution_count": 3,
     "metadata": {},
     "output_type": "execute_result"
    }
   ],
   "source": [
    "train.shape"
   ]
  },
  {
   "cell_type": "code",
   "execution_count": 4,
   "metadata": {},
   "outputs": [
    {
     "data": {
      "text/plain": [
       "(28000, 784)"
      ]
     },
     "execution_count": 4,
     "metadata": {},
     "output_type": "execute_result"
    }
   ],
   "source": [
    "test.shape"
   ]
  },
  {
   "cell_type": "code",
   "execution_count": 5,
   "metadata": {},
   "outputs": [
    {
     "data": {
      "text/html": [
       "<div>\n",
       "<style scoped>\n",
       "    .dataframe tbody tr th:only-of-type {\n",
       "        vertical-align: middle;\n",
       "    }\n",
       "\n",
       "    .dataframe tbody tr th {\n",
       "        vertical-align: top;\n",
       "    }\n",
       "\n",
       "    .dataframe thead th {\n",
       "        text-align: right;\n",
       "    }\n",
       "</style>\n",
       "<table border=\"1\" class=\"dataframe\">\n",
       "  <thead>\n",
       "    <tr style=\"text-align: right;\">\n",
       "      <th></th>\n",
       "      <th>label</th>\n",
       "      <th>pixel0</th>\n",
       "      <th>pixel1</th>\n",
       "      <th>pixel2</th>\n",
       "      <th>pixel3</th>\n",
       "      <th>pixel4</th>\n",
       "      <th>pixel5</th>\n",
       "      <th>pixel6</th>\n",
       "      <th>pixel7</th>\n",
       "      <th>pixel8</th>\n",
       "      <th>...</th>\n",
       "      <th>pixel774</th>\n",
       "      <th>pixel775</th>\n",
       "      <th>pixel776</th>\n",
       "      <th>pixel777</th>\n",
       "      <th>pixel778</th>\n",
       "      <th>pixel779</th>\n",
       "      <th>pixel780</th>\n",
       "      <th>pixel781</th>\n",
       "      <th>pixel782</th>\n",
       "      <th>pixel783</th>\n",
       "    </tr>\n",
       "  </thead>\n",
       "  <tbody>\n",
       "    <tr>\n",
       "      <th>0</th>\n",
       "      <td>1</td>\n",
       "      <td>0</td>\n",
       "      <td>0</td>\n",
       "      <td>0</td>\n",
       "      <td>0</td>\n",
       "      <td>0</td>\n",
       "      <td>0</td>\n",
       "      <td>0</td>\n",
       "      <td>0</td>\n",
       "      <td>0</td>\n",
       "      <td>...</td>\n",
       "      <td>0</td>\n",
       "      <td>0</td>\n",
       "      <td>0</td>\n",
       "      <td>0</td>\n",
       "      <td>0</td>\n",
       "      <td>0</td>\n",
       "      <td>0</td>\n",
       "      <td>0</td>\n",
       "      <td>0</td>\n",
       "      <td>0</td>\n",
       "    </tr>\n",
       "    <tr>\n",
       "      <th>1</th>\n",
       "      <td>0</td>\n",
       "      <td>0</td>\n",
       "      <td>0</td>\n",
       "      <td>0</td>\n",
       "      <td>0</td>\n",
       "      <td>0</td>\n",
       "      <td>0</td>\n",
       "      <td>0</td>\n",
       "      <td>0</td>\n",
       "      <td>0</td>\n",
       "      <td>...</td>\n",
       "      <td>0</td>\n",
       "      <td>0</td>\n",
       "      <td>0</td>\n",
       "      <td>0</td>\n",
       "      <td>0</td>\n",
       "      <td>0</td>\n",
       "      <td>0</td>\n",
       "      <td>0</td>\n",
       "      <td>0</td>\n",
       "      <td>0</td>\n",
       "    </tr>\n",
       "    <tr>\n",
       "      <th>2</th>\n",
       "      <td>1</td>\n",
       "      <td>0</td>\n",
       "      <td>0</td>\n",
       "      <td>0</td>\n",
       "      <td>0</td>\n",
       "      <td>0</td>\n",
       "      <td>0</td>\n",
       "      <td>0</td>\n",
       "      <td>0</td>\n",
       "      <td>0</td>\n",
       "      <td>...</td>\n",
       "      <td>0</td>\n",
       "      <td>0</td>\n",
       "      <td>0</td>\n",
       "      <td>0</td>\n",
       "      <td>0</td>\n",
       "      <td>0</td>\n",
       "      <td>0</td>\n",
       "      <td>0</td>\n",
       "      <td>0</td>\n",
       "      <td>0</td>\n",
       "    </tr>\n",
       "  </tbody>\n",
       "</table>\n",
       "<p>3 rows × 785 columns</p>\n",
       "</div>"
      ],
      "text/plain": [
       "   label  pixel0  pixel1  pixel2  pixel3  pixel4  pixel5  pixel6  pixel7  \\\n",
       "0      1       0       0       0       0       0       0       0       0   \n",
       "1      0       0       0       0       0       0       0       0       0   \n",
       "2      1       0       0       0       0       0       0       0       0   \n",
       "\n",
       "   pixel8    ...     pixel774  pixel775  pixel776  pixel777  pixel778  \\\n",
       "0       0    ...            0         0         0         0         0   \n",
       "1       0    ...            0         0         0         0         0   \n",
       "2       0    ...            0         0         0         0         0   \n",
       "\n",
       "   pixel779  pixel780  pixel781  pixel782  pixel783  \n",
       "0         0         0         0         0         0  \n",
       "1         0         0         0         0         0  \n",
       "2         0         0         0         0         0  \n",
       "\n",
       "[3 rows x 785 columns]"
      ]
     },
     "execution_count": 5,
     "metadata": {},
     "output_type": "execute_result"
    }
   ],
   "source": [
    "train.head(3)"
   ]
  },
  {
   "cell_type": "code",
   "execution_count": 6,
   "metadata": {},
   "outputs": [
    {
     "data": {
      "text/plain": [
       "255"
      ]
     },
     "execution_count": 6,
     "metadata": {},
     "output_type": "execute_result"
    }
   ],
   "source": [
    "train.iloc[0].max()"
   ]
  },
  {
   "cell_type": "markdown",
   "metadata": {},
   "source": [
    "Based on the data description, each image is 28 pixels in height and 28 pixels in width, for a total of 784 pixels in total. \n",
    "\n",
    "The feature 'label' is the number of each image."
   ]
  },
  {
   "cell_type": "markdown",
   "metadata": {},
   "source": [
    "**Check the quantity of each number in the train set first!**"
   ]
  },
  {
   "cell_type": "code",
   "execution_count": 7,
   "metadata": {
    "_cell_guid": "86570a36-5c20-460a-9dfd-2070548532a7",
    "_execution_state": "idle",
    "_uuid": "1213b979d5ed3e0d13824d17d694c79d2ece92fa"
   },
   "outputs": [
    {
     "data": {
      "text/plain": [
       "1    4684\n",
       "7    4401\n",
       "3    4351\n",
       "9    4188\n",
       "2    4177\n",
       "6    4137\n",
       "0    4132\n",
       "4    4072\n",
       "8    4063\n",
       "5    3795\n",
       "Name: label, dtype: int64"
      ]
     },
     "execution_count": 7,
     "metadata": {},
     "output_type": "execute_result"
    }
   ],
   "source": [
    "y_train = train['label']\n",
    "X_train = train.drop('label',axis = 1) \n",
    "\n",
    "y_train.value_counts()"
   ]
  },
  {
   "cell_type": "markdown",
   "metadata": {
    "_cell_guid": "5aea4062-1790-4987-b739-c4bebd79030f",
    "_uuid": "b7b1b1d36243c885e57374c8b60c5a7e10abe922"
   },
   "source": [
    "It seems that there are similar counts for 0 ~ 9 digits. Good!"
   ]
  },
  {
   "cell_type": "markdown",
   "metadata": {
    "_cell_guid": "5b7d4b66-a140-4fcc-a889-bcef007c880a",
    "_uuid": "5d77934302869925c19128c77e247b3c8ca84d71"
   },
   "source": [
    "**We also need to check if there are missing values.**"
   ]
  },
  {
   "cell_type": "code",
   "execution_count": 8,
   "metadata": {
    "_cell_guid": "ececaa00-2ae3-4d13-b631-438df085b030",
    "_execution_state": "idle",
    "_uuid": "cdf27c27e2a5b15e6d7bfc70de7a18c08f3feb7a"
   },
   "outputs": [
    {
     "data": {
      "text/plain": [
       "0"
      ]
     },
     "execution_count": 8,
     "metadata": {},
     "output_type": "execute_result"
    }
   ],
   "source": [
    "np.sum(X_train.isnull().sum())"
   ]
  },
  {
   "cell_type": "code",
   "execution_count": 9,
   "metadata": {
    "_cell_guid": "92572e80-8543-4e72-8767-5c9be8381b04",
    "_execution_state": "idle",
    "_uuid": "a0089bb7ec9aec76373db475399aea24699ae989"
   },
   "outputs": [
    {
     "data": {
      "text/plain": [
       "0"
      ]
     },
     "execution_count": 9,
     "metadata": {},
     "output_type": "execute_result"
    }
   ],
   "source": [
    "np.sum(test.isnull().sum())"
   ]
  },
  {
   "cell_type": "markdown",
   "metadata": {
    "_cell_guid": "09d04cae-4245-4659-85dd-ef48531da295",
    "_uuid": "c0bee59691c2df0b275c78e38e7f9907d02ac038"
   },
   "source": [
    "No missing data! We can go ahead!"
   ]
  },
  {
   "cell_type": "markdown",
   "metadata": {
    "_cell_guid": "6812040d-80ad-43d2-a571-275f4f20067b",
    "_uuid": "2954681f25f0dcbe986e6914396cdbce61db591f"
   },
   "source": [
    "## Normalization"
   ]
  },
  {
   "cell_type": "markdown",
   "metadata": {
    "_cell_guid": "159d5854-437a-4d0f-bc1e-fc3f7e43d178",
    "_uuid": "0ecf4b52510ab7957d0d4eb646c0aa1ba5986273"
   },
   "source": [
    "Perform the normalization for images to make all the data values in the range of 0 ~ 1."
   ]
  },
  {
   "cell_type": "code",
   "execution_count": 10,
   "metadata": {
    "_cell_guid": "cdc4340b-6e24-4e12-be99-ac806098ff17",
    "_execution_state": "idle",
    "_uuid": "b5d4f8fcf2a967e2c7d57daedf95aa8c5ab7f8cb"
   },
   "outputs": [],
   "source": [
    "X_train = X_train / 255.0\n",
    "test = test / 255.0"
   ]
  },
  {
   "cell_type": "markdown",
   "metadata": {
    "_cell_guid": "7413df94-bcb9-4f75-b174-c127d4445766",
    "_uuid": "a66741bf1ac597094f3a3166877008feef27c519"
   },
   "source": [
    "## Reshape the data\n",
    "\n",
    "Just reshape the data as image input."
   ]
  },
  {
   "cell_type": "code",
   "execution_count": 11,
   "metadata": {
    "_cell_guid": "34b6a5f7-8fd2-4387-8ef4-c9dc19584fed",
    "_execution_state": "idle",
    "_uuid": "f0a6ad80dab8e0f2c2e46165ccd9cd82dd162bc3"
   },
   "outputs": [],
   "source": [
    "X_train = X_train.values.reshape(-1,28,28,1)\n",
    "test = test.values.reshape(-1,28,28,1)"
   ]
  },
  {
   "cell_type": "code",
   "execution_count": 12,
   "metadata": {},
   "outputs": [
    {
     "data": {
      "text/plain": [
       "(42000, 28, 28, 1)"
      ]
     },
     "execution_count": 12,
     "metadata": {},
     "output_type": "execute_result"
    }
   ],
   "source": [
    "X_train.shape"
   ]
  },
  {
   "cell_type": "markdown",
   "metadata": {},
   "source": [
    "We can use **matplotlib.pyplot.imshow()** to view the images! "
   ]
  },
  {
   "cell_type": "code",
   "execution_count": 13,
   "metadata": {},
   "outputs": [],
   "source": [
    "from matplotlib.pyplot import imshow"
   ]
  },
  {
   "cell_type": "code",
   "execution_count": 14,
   "metadata": {},
   "outputs": [
    {
     "data": {
      "image/png": "[encoded data removed]",
      "text/plain": [
       "<Figure size 432x288 with 1 Axes>"
      ]
     },
     "metadata": {
      "needs_background": "light"
     },
     "output_type": "display_data"
    }
   ],
   "source": [
    "imshow(X_train[0,:,:,0]); #change the first dimension (sample index) for viewing "
   ]
  },
  {
   "cell_type": "markdown",
   "metadata": {
    "_cell_guid": "bdb422e2-bdec-444f-97a5-283a1e54bf2c",
    "_uuid": "39b7a31e843bac6b705461bcce89da216b91799e"
   },
   "source": [
    "## Encode the label\n",
    "\n",
    "It's the multi-classfication case. The target feature 'label' will be transformed into one-hot encoding vector.\n",
    "\n",
    "For example, 1 -> [0,1,0,0,0,0,0,0,0,0]"
   ]
  },
  {
   "cell_type": "code",
   "execution_count": 15,
   "metadata": {},
   "outputs": [
    {
     "name": "stderr",
     "output_type": "stream",
     "text": [
      "Using TensorFlow backend.\n"
     ]
    }
   ],
   "source": [
    "from keras.utils.np_utils import to_categorical"
   ]
  },
  {
   "cell_type": "code",
   "execution_count": 16,
   "metadata": {
    "_cell_guid": "4b7f3e78-44dc-4561-b1f0-9429ee024cf4",
    "_execution_state": "idle",
    "_uuid": "cabefd1478d5c1bdfe57fd6a34395340916a854c"
   },
   "outputs": [],
   "source": [
    "y_train = to_categorical(y_train, num_classes = 10)"
   ]
  },
  {
   "cell_type": "code",
   "execution_count": 17,
   "metadata": {},
   "outputs": [
    {
     "data": {
      "text/plain": [
       "(42000, 10)"
      ]
     },
     "execution_count": 17,
     "metadata": {},
     "output_type": "execute_result"
    }
   ],
   "source": [
    "y_train.shape"
   ]
  },
  {
   "cell_type": "code",
   "execution_count": 18,
   "metadata": {},
   "outputs": [
    {
     "data": {
      "text/plain": [
       "array([0., 1., 0., 0., 0., 0., 0., 0., 0., 0.], dtype=float32)"
      ]
     },
     "execution_count": 18,
     "metadata": {},
     "output_type": "execute_result"
    }
   ],
   "source": [
    "y_train[0]"
   ]
  },
  {
   "cell_type": "markdown",
   "metadata": {
    "_cell_guid": "32152fc3-a570-4d64-8a7d-6c689a4acd33",
    "_uuid": "d8abbbf31483b94e1b29d07c4c8253d1311648a7"
   },
   "source": [
    "## Split train set for validation"
   ]
  },
  {
   "cell_type": "code",
   "execution_count": 19,
   "metadata": {},
   "outputs": [],
   "source": [
    "from sklearn.model_selection import train_test_split"
   ]
  },
  {
   "cell_type": "code",
   "execution_count": 20,
   "metadata": {
    "_cell_guid": "dcd25ebb-d845-4d32-9867-082e352b1396",
    "_execution_state": "idle",
    "_uuid": "b779ac76d8317647db92d5a88b4098d212d72884"
   },
   "outputs": [],
   "source": [
    "X_train, X_val, y_train, y_val = train_test_split(X_train, y_train, test_size = 0.1, random_state=66)"
   ]
  },
  {
   "cell_type": "markdown",
   "metadata": {
    "_cell_guid": "d5265777-aeb3-449d-b171-d88cad74c0a4",
    "_uuid": "5fa18b37a9acd9e098bac1d12264b0dd4310fdd3"
   },
   "source": [
    "## Build the CNN"
   ]
  },
  {
   "cell_type": "code",
   "execution_count": 21,
   "metadata": {},
   "outputs": [],
   "source": [
    "from keras.models import Sequential\n",
    "from keras.layers import Dense, Dropout, Flatten, Conv2D, MaxPool2D, Activation, BatchNormalization\n",
    "from keras.optimizers import Adam\n",
    "from keras.callbacks import ReduceLROnPlateau"
   ]
  },
  {
   "cell_type": "markdown",
   "metadata": {},
   "source": [
    "The model we build is structured like a small VGG (one of classic CNN models).\n",
    "\n",
    "Do the batch normalization to speed up the optimization.\n",
    "\n",
    "Use dropout to reduce the over-fitting."
   ]
  },
  {
   "cell_type": "code",
   "execution_count": 22,
   "metadata": {
    "_cell_guid": "1e0f3f88-2ad7-459e-8e02-aecc5f3511ae",
    "_execution_state": "idle",
    "_uuid": "f7991ef6871a26f9fa57acdcd460a69bab53e804"
   },
   "outputs": [
    {
     "name": "stdout",
     "output_type": "stream",
     "text": [
      "WARNING:tensorflow:From C:\\Users\\Leon\\Anaconda3\\lib\\site-packages\\tensorflow\\python\\framework\\op_def_library.py:263: colocate_with (from tensorflow.python.framework.ops) is deprecated and will be removed in a future version.\n",
      "Instructions for updating:\n",
      "Colocations handled automatically by placer.\n",
      "WARNING:tensorflow:From C:\\Users\\Leon\\Anaconda3\\lib\\site-packages\\keras\\backend\\tensorflow_backend.py:3445: calling dropout (from tensorflow.python.ops.nn_ops) with keep_prob is deprecated and will be removed in a future version.\n",
      "Instructions for updating:\n",
      "Please use `rate` instead of `keep_prob`. Rate should be set to `rate = 1 - keep_prob`.\n"
     ]
    }
   ],
   "source": [
    "model = Sequential()\n",
    "\n",
    "model.add(Conv2D(filters = 32, kernel_size = (3,3),padding = 'Same', \n",
    "                 input_shape = (28,28,1)))\n",
    "model.add(BatchNormalization(axis=-1))\n",
    "model.add(Activation('relu'))\n",
    "model.add(Conv2D(filters = 32, kernel_size = (3,3),padding = 'Same'))\n",
    "model.add(BatchNormalization(axis=-1))\n",
    "model.add(Activation('relu'))\n",
    "model.add(MaxPool2D(pool_size=(2,2)))\n",
    "model.add(Dropout(rate=0.25))\n",
    "\n",
    "\n",
    "model.add(Conv2D(filters = 64, kernel_size = (3,3),padding = 'Same'))\n",
    "model.add(BatchNormalization(axis=-1))\n",
    "model.add(Activation('relu'))\n",
    "model.add(Conv2D(filters = 64, kernel_size = (3,3),padding = 'Same'))\n",
    "model.add(BatchNormalization(axis=-1))\n",
    "model.add(Activation('relu'))\n",
    "model.add(MaxPool2D(pool_size=(2,2), strides=(2,2)))\n",
    "model.add(Dropout(rate=0.25))\n",
    "\n",
    "model.add(Conv2D(filters = 128, kernel_size = (3,3),padding = 'Same'))\n",
    "model.add(BatchNormalization(axis=-1))\n",
    "model.add(Activation('relu'))\n",
    "model.add(Conv2D(filters = 128, kernel_size = (3,3),padding = 'Same'))\n",
    "model.add(BatchNormalization(axis=-1))\n",
    "model.add(Activation('relu'))\n",
    "model.add(MaxPool2D(pool_size=(2,2), strides=(2,2)))\n",
    "model.add(Dropout(rate=0.25))\n",
    "\n",
    "\n",
    "model.add(Flatten())\n",
    "model.add(Dense(256, activation = \"relu\"))\n",
    "model.add(Dropout(0.25))\n",
    "model.add(Dense(10, activation = \"softmax\"))"
   ]
  },
  {
   "cell_type": "markdown",
   "metadata": {},
   "source": [
    "Use Adam as optimizer."
   ]
  },
  {
   "cell_type": "code",
   "execution_count": 23,
   "metadata": {
    "_cell_guid": "a4c55409-6a65-400a-b5e8-a1dc535429c0",
    "_execution_state": "idle",
    "_uuid": "420c704367b397b8255fefe9d882b35ac8929b95"
   },
   "outputs": [],
   "source": [
    "optimizer = Adam(lr=0.001, beta_1=0.9, beta_2=0.999, epsilon=1e-08)"
   ]
  },
  {
   "cell_type": "code",
   "execution_count": 24,
   "metadata": {
    "_cell_guid": "0bd89b79-1a74-40da-af9a-7a76a8b96ff2",
    "_execution_state": "idle",
    "_uuid": "b4c0288622227a3cd05479aa765e324dbb852f34"
   },
   "outputs": [],
   "source": [
    "model.compile(optimizer= optimizer , loss = \"categorical_crossentropy\", metrics=[\"accuracy\"])"
   ]
  },
  {
   "cell_type": "markdown",
   "metadata": {},
   "source": [
    "Also use a monitor to control the learning rate if the accuracy doesn't decline."
   ]
  },
  {
   "cell_type": "code",
   "execution_count": 25,
   "metadata": {
    "_cell_guid": "b5987a18-6bbe-42a2-9d31-333ebc4f7af1",
    "_execution_state": "idle",
    "_uuid": "c4a5b4e462ec5362c47eef4fcc7956fd4e203307"
   },
   "outputs": [],
   "source": [
    "monitor = ReduceLROnPlateau(monitor='val_acc', \n",
    "                            patience=2, \n",
    "                            verbose=1, \n",
    "                            factor=0.5, \n",
    "                            min_lr=0.000001)"
   ]
  },
  {
   "cell_type": "markdown",
   "metadata": {
    "_cell_guid": "241a0f4f-13f5-4b13-be1e-4e3e4a714c06",
    "_uuid": "f24df64b223e0177c94025b6767ab19b722c5386"
   },
   "source": [
    "## Data augmentation "
   ]
  },
  {
   "cell_type": "markdown",
   "metadata": {
    "_cell_guid": "e2d41e30-0724-40fb-a901-750e514ba9f9",
    "_uuid": "9e498b91419439f0fa791e595f202d9a0d56ad6b"
   },
   "source": [
    "The data augmentation is always important to an image recognition case.\n",
    "\n",
    "After all, more data, better performance!"
   ]
  },
  {
   "cell_type": "code",
   "execution_count": 26,
   "metadata": {},
   "outputs": [],
   "source": [
    "from keras.preprocessing.image import ImageDataGenerator"
   ]
  },
  {
   "cell_type": "code",
   "execution_count": 27,
   "metadata": {
    "_cell_guid": "b342befe-1a6f-44bf-8dab-28033a729122",
    "_execution_state": "idle",
    "_uuid": "21d6192c87d92d497c797656474bccd9cefc5647"
   },
   "outputs": [],
   "source": [
    "idg = ImageDataGenerator(\n",
    "        rotation_range=5, \n",
    "        zoom_range = 0.1,\n",
    "        width_shift_range=0.1,  \n",
    "        height_shift_range=0.1)  \n",
    "\n",
    "\n",
    "idg.fit(X_train)"
   ]
  },
  {
   "cell_type": "markdown",
   "metadata": {},
   "source": [
    "## Training"
   ]
  },
  {
   "cell_type": "code",
   "execution_count": 28,
   "metadata": {
    "_cell_guid": "b453af8d-9736-43e3-b486-7a1cd7dd8909",
    "_execution_state": "idle",
    "_uuid": "cf36b3d029f95b553be02d612e097a9769ee8252",
    "scrolled": true
   },
   "outputs": [
    {
     "name": "stdout",
     "output_type": "stream",
     "text": [
      "WARNING:tensorflow:From C:\\Users\\Leon\\Anaconda3\\lib\\site-packages\\tensorflow\\python\\ops\\math_ops.py:3066: to_int32 (from tensorflow.python.ops.math_ops) is deprecated and will be removed in a future version.\n",
      "Instructions for updating:\n",
      "Use tf.cast instead.\n",
      "Epoch 1/30\n",
      "378/378 [==============================] - 156s 413ms/step - loss: 0.4515 - acc: 0.8570 - val_loss: 0.1759 - val_acc: 0.9510\n",
      "Epoch 2/30\n",
      "378/378 [==============================] - 154s 409ms/step - loss: 0.1047 - acc: 0.9681 - val_loss: 0.0550 - val_acc: 0.9843\n",
      "Epoch 3/30\n",
      "378/378 [==============================] - 156s 414ms/step - loss: 0.0773 - acc: 0.9766 - val_loss: 0.0448 - val_acc: 0.9869\n",
      "Epoch 4/30\n",
      "378/378 [==============================] - 156s 413ms/step - loss: 0.0657 - acc: 0.9803 - val_loss: 0.0523 - val_acc: 0.9857\n",
      "Epoch 5/30\n",
      "378/378 [==============================] - 157s 416ms/step - loss: 0.0557 - acc: 0.9830 - val_loss: 0.0367 - val_acc: 0.9883\n",
      "Epoch 6/30\n",
      "378/378 [==============================] - 155s 409ms/step - loss: 0.0500 - acc: 0.9854 - val_loss: 0.0482 - val_acc: 0.9857\n",
      "Epoch 7/30\n",
      "378/378 [==============================] - 160s 424ms/step - loss: 0.0495 - acc: 0.9850 - val_loss: 0.0350 - val_acc: 0.9890\n",
      "Epoch 8/30\n",
      "378/378 [==============================] - 157s 415ms/step - loss: 0.0419 - acc: 0.9871 - val_loss: 0.0260 - val_acc: 0.9917\n",
      "Epoch 9/30\n",
      "378/378 [==============================] - 154s 408ms/step - loss: 0.0383 - acc: 0.9883 - val_loss: 0.0324 - val_acc: 0.9917\n",
      "Epoch 10/30\n",
      "378/378 [==============================] - 154s 407ms/step - loss: 0.0375 - acc: 0.9886 - val_loss: 0.0367 - val_acc: 0.9914\n",
      "\n",
      "Epoch 00010: ReduceLROnPlateau reducing learning rate to 0.0005000000237487257.\n",
      "Epoch 11/30\n",
      "378/378 [==============================] - 155s 411ms/step - loss: 0.0274 - acc: 0.9911 - val_loss: 0.0212 - val_acc: 0.9938\n",
      "Epoch 12/30\n",
      "378/378 [==============================] - 156s 412ms/step - loss: 0.0248 - acc: 0.9925 - val_loss: 0.0279 - val_acc: 0.9926\n",
      "Epoch 13/30\n",
      "378/378 [==============================] - 154s 409ms/step - loss: 0.0231 - acc: 0.9927 - val_loss: 0.0276 - val_acc: 0.9926\n",
      "\n",
      "Epoch 00013: ReduceLROnPlateau reducing learning rate to 0.0002500000118743628.\n",
      "Epoch 14/30\n",
      "378/378 [==============================] - 154s 407ms/step - loss: 0.0210 - acc: 0.9934 - val_loss: 0.0216 - val_acc: 0.9933\n",
      "Epoch 15/30\n",
      "378/378 [==============================] - 155s 411ms/step - loss: 0.0193 - acc: 0.9940 - val_loss: 0.0228 - val_acc: 0.9931\n",
      "\n",
      "Epoch 00015: ReduceLROnPlateau reducing learning rate to 0.0001250000059371814.\n",
      "Epoch 16/30\n",
      "378/378 [==============================] - 154s 407ms/step - loss: 0.0181 - acc: 0.9949 - val_loss: 0.0235 - val_acc: 0.9938\n",
      "Epoch 17/30\n",
      "378/378 [==============================] - 155s 409ms/step - loss: 0.0165 - acc: 0.9947 - val_loss: 0.0242 - val_acc: 0.9940\n",
      "Epoch 18/30\n",
      "378/378 [==============================] - 155s 411ms/step - loss: 0.0155 - acc: 0.9951 - val_loss: 0.0222 - val_acc: 0.9940\n",
      "Epoch 19/30\n",
      "378/378 [==============================] - 156s 412ms/step - loss: 0.0139 - acc: 0.9958 - val_loss: 0.0218 - val_acc: 0.9943\n",
      "Epoch 20/30\n",
      "378/378 [==============================] - 154s 409ms/step - loss: 0.0136 - acc: 0.9958 - val_loss: 0.0206 - val_acc: 0.9940\n",
      "Epoch 21/30\n",
      "378/378 [==============================] - 155s 411ms/step - loss: 0.0148 - acc: 0.9954 - val_loss: 0.0220 - val_acc: 0.9948\n",
      "Epoch 22/30\n",
      "378/378 [==============================] - 155s 411ms/step - loss: 0.0146 - acc: 0.9955 - val_loss: 0.0213 - val_acc: 0.9938\n",
      "Epoch 23/30\n",
      "378/378 [==============================] - 156s 413ms/step - loss: 0.0139 - acc: 0.9956 - val_loss: 0.0206 - val_acc: 0.9945\n",
      "\n",
      "Epoch 00023: ReduceLROnPlateau reducing learning rate to 6.25000029685907e-05.\n",
      "Epoch 24/30\n",
      "378/378 [==============================] - 156s 412ms/step - loss: 0.0116 - acc: 0.9964 - val_loss: 0.0219 - val_acc: 0.9945\n",
      "Epoch 25/30\n",
      "378/378 [==============================] - 155s 410ms/step - loss: 0.0114 - acc: 0.9964 - val_loss: 0.0211 - val_acc: 0.9943\n",
      "\n",
      "Epoch 00025: ReduceLROnPlateau reducing learning rate to 3.125000148429535e-05.\n",
      "Epoch 26/30\n",
      "378/378 [==============================] - 155s 411ms/step - loss: 0.0124 - acc: 0.9963 - val_loss: 0.0204 - val_acc: 0.9940\n",
      "Epoch 27/30\n",
      "378/378 [==============================] - 156s 413ms/step - loss: 0.0112 - acc: 0.9965 - val_loss: 0.0205 - val_acc: 0.9940\n",
      "\n",
      "Epoch 00027: ReduceLROnPlateau reducing learning rate to 1.5625000742147677e-05.\n",
      "Epoch 28/30\n",
      "378/378 [==============================] - 154s 408ms/step - loss: 0.0104 - acc: 0.9963 - val_loss: 0.0201 - val_acc: 0.9948\n",
      "Epoch 29/30\n",
      "378/378 [==============================] - 155s 411ms/step - loss: 0.0103 - acc: 0.9967 - val_loss: 0.0206 - val_acc: 0.9948\n",
      "\n",
      "Epoch 00029: ReduceLROnPlateau reducing learning rate to 7.812500371073838e-06.\n",
      "Epoch 30/30\n",
      "378/378 [==============================] - 156s 411ms/step - loss: 0.0113 - acc: 0.9963 - val_loss: 0.0201 - val_acc: 0.9943\n"
     ]
    }
   ],
   "source": [
    "result = model.fit_generator(idg.flow(X_train,y_train, batch_size=100),\n",
    "                              epochs = 30, validation_data = (X_val,y_val),\n",
    "                              verbose = 1, steps_per_epoch=X_train.shape[0] // 100\n",
    "                              , callbacks=[monitor])"
   ]
  },
  {
   "cell_type": "markdown",
   "metadata": {},
   "source": [
    "Check the history of 'loss' & accuracy "
   ]
  },
  {
   "cell_type": "code",
   "execution_count": 29,
   "metadata": {},
   "outputs": [
    {
     "data": {
      "text/plain": [
       "{'val_loss': [0.1759498342871666,\n",
       "  0.055044139325175254,\n",
       "  0.044834507088775614,\n",
       "  0.05234838968109606,\n",
       "  0.03670057819025325,\n",
       "  0.04816325763905687,\n",
       "  0.03498140300784837,\n",
       "  0.025984264463962365,\n",
       "  0.032376169881206895,\n",
       "  0.03665935594610693,\n",
       "  0.021161819124245085,\n",
       "  0.027897851172037053,\n",
       "  0.027639176269682746,\n",
       "  0.02161487273059763,\n",
       "  0.022821857648783146,\n",
       "  0.023539539116557404,\n",
       "  0.02417232263126477,\n",
       "  0.022213892569111306,\n",
       "  0.021848560578118417,\n",
       "  0.020571681146975607,\n",
       "  0.021955960664031625,\n",
       "  0.021301348412851525,\n",
       "  0.02062884526371601,\n",
       "  0.02190359001910803,\n",
       "  0.021074803651052725,\n",
       "  0.020373857754315224,\n",
       "  0.020529324548641897,\n",
       "  0.020112614915411713,\n",
       "  0.020572002842051178,\n",
       "  0.020136440960976915],\n",
       " 'val_acc': [0.9509523865722475,\n",
       "  0.9842857207570758,\n",
       "  0.9869047701358795,\n",
       "  0.9857142950807299,\n",
       "  0.9883333430403755,\n",
       "  0.9857142936615717,\n",
       "  0.9890476280734652,\n",
       "  0.9916666746139526,\n",
       "  0.9916666717756362,\n",
       "  0.9914285796029227,\n",
       "  0.993809529713222,\n",
       "  0.9926190546580723,\n",
       "  0.9926190546580723,\n",
       "  0.9933333382720039,\n",
       "  0.9930952446801322,\n",
       "  0.993809529713222,\n",
       "  0.9940476233050937,\n",
       "  0.9940476247242519,\n",
       "  0.9942857197352818,\n",
       "  0.9940476247242519,\n",
       "  0.9947619097573417,\n",
       "  0.993809529713222,\n",
       "  0.9945238147463117,\n",
       "  0.9945238133271536,\n",
       "  0.9942857183161236,\n",
       "  0.9940476233050937,\n",
       "  0.9940476233050937,\n",
       "  0.9947619097573417,\n",
       "  0.9947619097573417,\n",
       "  0.9942857183161236],\n",
       " 'loss': [0.45154351909600554,\n",
       "  0.10471223145674066,\n",
       "  0.07725519420229214,\n",
       "  0.06568958435118907,\n",
       "  0.05573780877483644,\n",
       "  0.04995888005572534,\n",
       "  0.04952232613907043,\n",
       "  0.04192603231720607,\n",
       "  0.03829547027883578,\n",
       "  0.03747622586944431,\n",
       "  0.027367085312593548,\n",
       "  0.024818688600106047,\n",
       "  0.023081727095087497,\n",
       "  0.021042160549701226,\n",
       "  0.019327215961494455,\n",
       "  0.01809908241757608,\n",
       "  0.016466601979262786,\n",
       "  0.015528335175341459,\n",
       "  0.013877786693878338,\n",
       "  0.01360940996385931,\n",
       "  0.014756068012541007,\n",
       "  0.014644126256989597,\n",
       "  0.01393038708046473,\n",
       "  0.011636362320459547,\n",
       "  0.011363403467859065,\n",
       "  0.012406065704006266,\n",
       "  0.011166471516988831,\n",
       "  0.010444625919965336,\n",
       "  0.010322827013272905,\n",
       "  0.011318516966341082],\n",
       " 'acc': [0.8570105834376245,\n",
       "  0.9680687911296016,\n",
       "  0.9765873111429668,\n",
       "  0.980343926047522,\n",
       "  0.9829894291660773,\n",
       "  0.9854497464876326,\n",
       "  0.9849735552040988,\n",
       "  0.9871164120378948,\n",
       "  0.9882539780366988,\n",
       "  0.9885714371052999,\n",
       "  0.9910582086396595,\n",
       "  0.9925132341801174,\n",
       "  0.992698419661749,\n",
       "  0.993359794219335,\n",
       "  0.9940211692499736,\n",
       "  0.9949470941351835,\n",
       "  0.9946560897524395,\n",
       "  0.9951058247732738,\n",
       "  0.9958201098063636,\n",
       "  0.9957671996462282,\n",
       "  0.9954497397892059,\n",
       "  0.9955291046351983,\n",
       "  0.9956349246401005,\n",
       "  0.9964285748345512,\n",
       "  0.9964021198333256,\n",
       "  0.9962962998284234,\n",
       "  0.9965079398382277,\n",
       "  0.9963227548296489,\n",
       "  0.9966931248468066,\n",
       "  0.9962962998284234],\n",
       " 'lr': [0.001,\n",
       "  0.001,\n",
       "  0.001,\n",
       "  0.001,\n",
       "  0.001,\n",
       "  0.001,\n",
       "  0.001,\n",
       "  0.001,\n",
       "  0.001,\n",
       "  0.001,\n",
       "  0.0005,\n",
       "  0.0005,\n",
       "  0.0005,\n",
       "  0.00025,\n",
       "  0.00025,\n",
       "  0.000125,\n",
       "  0.000125,\n",
       "  0.000125,\n",
       "  0.000125,\n",
       "  0.000125,\n",
       "  0.000125,\n",
       "  0.000125,\n",
       "  0.000125,\n",
       "  6.25e-05,\n",
       "  6.25e-05,\n",
       "  3.125e-05,\n",
       "  3.125e-05,\n",
       "  1.5625e-05,\n",
       "  1.5625e-05,\n",
       "  7.8125e-06]}"
      ]
     },
     "execution_count": 29,
     "metadata": {},
     "output_type": "execute_result"
    }
   ],
   "source": [
    "result.history"
   ]
  },
  {
   "cell_type": "markdown",
   "metadata": {},
   "source": [
    "Draw the diagram for viewing"
   ]
  },
  {
   "cell_type": "code",
   "execution_count": 30,
   "metadata": {},
   "outputs": [],
   "source": [
    "import matplotlib.pyplot as plt"
   ]
  },
  {
   "cell_type": "code",
   "execution_count": 31,
   "metadata": {},
   "outputs": [
    {
     "data": {
      "image/png": "[encoded data removed]",
      "text/plain": [
       "<Figure size 432x288 with 1 Axes>"
      ]
     },
     "metadata": {
      "needs_background": "light"
     },
     "output_type": "display_data"
    }
   ],
   "source": [
    "plt.plot(result.history['acc'],label='Train accuracy')\n",
    "plt.plot(result.history['val_acc'],label='Val accuracy')\n",
    "plt.legend()\n",
    "plt.show()"
   ]
  },
  {
   "cell_type": "markdown",
   "metadata": {},
   "source": [
    "Both train (99.6%) and validation (99.4%) accuracy is high (or meet the expectation) and no significant gap between train and validation sets.\n",
    "\n",
    "We can consider that the model has good performance without under-fitting and over-fitting."
   ]
  },
  {
   "cell_type": "markdown",
   "metadata": {},
   "source": [
    "## Predict and perform the submission"
   ]
  },
  {
   "cell_type": "code",
   "execution_count": 32,
   "metadata": {},
   "outputs": [],
   "source": [
    "sub = pd.read_csv('sample_submission.csv')"
   ]
  },
  {
   "cell_type": "code",
   "execution_count": 33,
   "metadata": {
    "_cell_guid": "05ff3b9f-c3bb-4cec-a8c2-2c128e8f15b3",
    "_execution_state": "idle",
    "_uuid": "7f17e7bf0a54a01a52fef2d554780f6bc6580dc6"
   },
   "outputs": [],
   "source": [
    "pred = model.predict(test)\n",
    "pred = np.argmax(pred,axis = 1)\n",
    "sub['Label'] = pred"
   ]
  },
  {
   "cell_type": "code",
   "execution_count": 34,
   "metadata": {},
   "outputs": [],
   "source": [
    "sub.to_csv(\"cnn_adam.csv\",index=False)"
   ]
  },
  {
   "cell_type": "markdown",
   "metadata": {},
   "source": [
    "The test accuracy is **99.64%**!"
   ]
  }
 ],
 "metadata": {
  "kernelspec": {
   "display_name": "Python 3",
   "language": "python",
   "name": "python3"
  },
  "language_info": {
   "codemirror_mode": {
    "name": "ipython",
    "version": 3
   },
   "file_extension": ".py",
   "mimetype": "text/x-python",
   "name": "python",
   "nbconvert_exporter": "python",
   "pygments_lexer": "ipython3",
   "version": "3.7.0"
  }
 },
 "nbformat": 4,
 "nbformat_minor": 2
}
